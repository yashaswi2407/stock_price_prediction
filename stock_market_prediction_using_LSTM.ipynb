{
  "nbformat": 4,
  "nbformat_minor": 0,
  "metadata": {
    "colab": {
      "name": "stock_market_prediction_using_LSTM.ipynb",
      "provenance": []
    },
    "kernelspec": {
      "name": "python3",
      "display_name": "Python 3"
    }
  },
  "cells": [
    {
      "cell_type": "code",
      "metadata": {
        "id": "L6oQ1kXaYeax",
        "colab_type": "code",
        "outputId": "f0cf5865-9cf3-47ad-d77f-90275510c678",
        "colab": {
          "base_uri": "https://localhost:8080/",
          "height": 56
        }
      },
      "source": [
        "from google.colab import drive\n",
        "drive.mount('/content/drive')"
      ],
      "execution_count": 25,
      "outputs": [
        {
          "output_type": "stream",
          "text": [
            "Drive already mounted at /content/drive; to attempt to forcibly remount, call drive.mount(\"/content/drive\", force_remount=True).\n"
          ],
          "name": "stdout"
        }
      ]
    },
    {
      "cell_type": "code",
      "metadata": {
        "id": "lPfoV75MabmB",
        "colab_type": "code",
        "outputId": "7967b34c-c6cf-47f3-e8da-44bc64702e6d",
        "colab": {
          "base_uri": "https://localhost:8080/",
          "height": 36
        }
      },
      "source": [
        "cd /content/drive/My Drive"
      ],
      "execution_count": 26,
      "outputs": [
        {
          "output_type": "stream",
          "text": [
            "/content/drive/My Drive\n"
          ],
          "name": "stdout"
        }
      ]
    },
    {
      "cell_type": "code",
      "metadata": {
        "id": "eR1icLQaaSli",
        "colab_type": "code",
        "colab": {}
      },
      "source": [
        "import pandas as pd\n",
        "import numpy as np\n",
        "import matplotlib.pyplot as plt"
      ],
      "execution_count": 0,
      "outputs": []
    },
    {
      "cell_type": "code",
      "metadata": {
        "id": "z1SofVjpaZA8",
        "colab_type": "code",
        "colab": {}
      },
      "source": [
        "train=pd.read_csv(\"stockx_train.csv\")\n",
        "test=pd.read_csv(\"stockx_test.csv\")\n",
        "label=pd.read_csv(\"stocky_train.csv\") "
      ],
      "execution_count": 0,
      "outputs": []
    },
    {
      "cell_type": "code",
      "metadata": {
        "id": "j5kwddH1a6Fp",
        "colab_type": "code",
        "outputId": "7744eb74-d148-4e38-e771-013a7d5ca811",
        "colab": {
          "base_uri": "https://localhost:8080/",
          "height": 206
        }
      },
      "source": [
        "train.head()"
      ],
      "execution_count": 29,
      "outputs": [
        {
          "output_type": "execute_result",
          "data": {
            "text/html": [
              "<div>\n",
              "<style scoped>\n",
              "    .dataframe tbody tr th:only-of-type {\n",
              "        vertical-align: middle;\n",
              "    }\n",
              "\n",
              "    .dataframe tbody tr th {\n",
              "        vertical-align: top;\n",
              "    }\n",
              "\n",
              "    .dataframe thead th {\n",
              "        text-align: right;\n",
              "    }\n",
              "</style>\n",
              "<table border=\"1\" class=\"dataframe\">\n",
              "  <thead>\n",
              "    <tr style=\"text-align: right;\">\n",
              "      <th></th>\n",
              "      <th>High</th>\n",
              "    </tr>\n",
              "  </thead>\n",
              "  <tbody>\n",
              "    <tr>\n",
              "      <th>0</th>\n",
              "      <td>332.83</td>\n",
              "    </tr>\n",
              "    <tr>\n",
              "      <th>1</th>\n",
              "      <td>333.87</td>\n",
              "    </tr>\n",
              "    <tr>\n",
              "      <th>2</th>\n",
              "      <td>330.75</td>\n",
              "    </tr>\n",
              "    <tr>\n",
              "      <th>3</th>\n",
              "      <td>328.77</td>\n",
              "    </tr>\n",
              "    <tr>\n",
              "      <th>4</th>\n",
              "      <td>322.29</td>\n",
              "    </tr>\n",
              "  </tbody>\n",
              "</table>\n",
              "</div>"
            ],
            "text/plain": [
              "     High\n",
              "0  332.83\n",
              "1  333.87\n",
              "2  330.75\n",
              "3  328.77\n",
              "4  322.29"
            ]
          },
          "metadata": {
            "tags": []
          },
          "execution_count": 29
        }
      ]
    },
    {
      "cell_type": "code",
      "metadata": {
        "id": "ojaglUy7bcOT",
        "colab_type": "code",
        "outputId": "31a672c2-26c8-4e66-e9bf-856f5925379e",
        "colab": {
          "base_uri": "https://localhost:8080/",
          "height": 206
        }
      },
      "source": [
        "label.head()"
      ],
      "execution_count": 30,
      "outputs": [
        {
          "output_type": "execute_result",
          "data": {
            "text/html": [
              "<div>\n",
              "<style scoped>\n",
              "    .dataframe tbody tr th:only-of-type {\n",
              "        vertical-align: middle;\n",
              "    }\n",
              "\n",
              "    .dataframe tbody tr th {\n",
              "        vertical-align: top;\n",
              "    }\n",
              "\n",
              "    .dataframe thead th {\n",
              "        text-align: right;\n",
              "    }\n",
              "</style>\n",
              "<table border=\"1\" class=\"dataframe\">\n",
              "  <thead>\n",
              "    <tr style=\"text-align: right;\">\n",
              "      <th></th>\n",
              "      <th>High</th>\n",
              "    </tr>\n",
              "  </thead>\n",
              "  <tbody>\n",
              "    <tr>\n",
              "      <th>0</th>\n",
              "      <td>333.87</td>\n",
              "    </tr>\n",
              "    <tr>\n",
              "      <th>1</th>\n",
              "      <td>330.75</td>\n",
              "    </tr>\n",
              "    <tr>\n",
              "      <th>2</th>\n",
              "      <td>328.77</td>\n",
              "    </tr>\n",
              "    <tr>\n",
              "      <th>3</th>\n",
              "      <td>322.29</td>\n",
              "    </tr>\n",
              "    <tr>\n",
              "      <th>4</th>\n",
              "      <td>315.72</td>\n",
              "    </tr>\n",
              "  </tbody>\n",
              "</table>\n",
              "</div>"
            ],
            "text/plain": [
              "     High\n",
              "0  333.87\n",
              "1  330.75\n",
              "2  328.77\n",
              "3  322.29\n",
              "4  315.72"
            ]
          },
          "metadata": {
            "tags": []
          },
          "execution_count": 30
        }
      ]
    },
    {
      "cell_type": "code",
      "metadata": {
        "id": "yMm0vPqabeSQ",
        "colab_type": "code",
        "colab": {}
      },
      "source": [
        "from keras.models import Sequential\n",
        "from keras.layers import *\n",
        "from keras.utils import np_utils \n",
        "from keras.callbacks import EarlyStopping,ModelCheckpoint\n",
        "from keras.models import load_model\n",
        "from keras.optimizers import adam"
      ],
      "execution_count": 0,
      "outputs": []
    },
    {
      "cell_type": "code",
      "metadata": {
        "id": "_7LaxqUkbzvu",
        "colab_type": "code",
        "colab": {}
      },
      "source": [
        "from sklearn.preprocessing import MinMaxScaler\n",
        "mm=MinMaxScaler(feature_range=(0,1))\n",
        "x_train=mm.fit_transform(train)\n",
        "y_train=mm.fit_transform(label)"
      ],
      "execution_count": 0,
      "outputs": []
    },
    {
      "cell_type": "code",
      "metadata": {
        "id": "sq5W98jwcJFg",
        "colab_type": "code",
        "outputId": "2b44a9b0-e116-491a-d935-d11438d6e481",
        "colab": {
          "base_uri": "https://localhost:8080/",
          "height": 36
        }
      },
      "source": [
        "x_train.shape"
      ],
      "execution_count": 33,
      "outputs": [
        {
          "output_type": "execute_result",
          "data": {
            "text/plain": [
              "(1257, 1)"
            ]
          },
          "metadata": {
            "tags": []
          },
          "execution_count": 33
        }
      ]
    },
    {
      "cell_type": "code",
      "metadata": {
        "id": "yIb4dqiVchga",
        "colab_type": "code",
        "colab": {}
      },
      "source": [
        "x_train=x_train.reshape((x_train.shape[0],x_train.shape[1],1))"
      ],
      "execution_count": 0,
      "outputs": []
    },
    {
      "cell_type": "code",
      "metadata": {
        "id": "4VeeKVAZcu9E",
        "colab_type": "code",
        "outputId": "27fd3eb9-b0e5-428f-e34c-c3db6414637e",
        "colab": {
          "base_uri": "https://localhost:8080/",
          "height": 258
        }
      },
      "source": [
        "x_train"
      ],
      "execution_count": 35,
      "outputs": [
        {
          "output_type": "execute_result",
          "data": {
            "text/plain": [
              "array([[[0.09640129]],\n",
              "\n",
              "       [[0.09834351]],\n",
              "\n",
              "       [[0.09251685]],\n",
              "\n",
              "       ...,\n",
              "\n",
              "       [[0.96485331]],\n",
              "\n",
              "       [[0.95807422]],\n",
              "\n",
              "       [[0.94257381]]])"
            ]
          },
          "metadata": {
            "tags": []
          },
          "execution_count": 35
        }
      ]
    },
    {
      "cell_type": "code",
      "metadata": {
        "id": "AmBKT7NYcvle",
        "colab_type": "code",
        "outputId": "a7d15038-f2d4-47a3-bfca-c68609aa9855",
        "colab": {
          "base_uri": "https://localhost:8080/",
          "height": 36
        }
      },
      "source": [
        "x_train.shape"
      ],
      "execution_count": 36,
      "outputs": [
        {
          "output_type": "execute_result",
          "data": {
            "text/plain": [
              "(1257, 1, 1)"
            ]
          },
          "metadata": {
            "tags": []
          },
          "execution_count": 36
        }
      ]
    },
    {
      "cell_type": "code",
      "metadata": {
        "id": "q4MKsOD4dAIr",
        "colab_type": "code",
        "outputId": "3e8234f4-26a1-4c2f-8138-d1f740121c13",
        "colab": {
          "base_uri": "https://localhost:8080/",
          "height": 36
        }
      },
      "source": [
        "y_train.shape"
      ],
      "execution_count": 37,
      "outputs": [
        {
          "output_type": "execute_result",
          "data": {
            "text/plain": [
              "(1257, 1)"
            ]
          },
          "metadata": {
            "tags": []
          },
          "execution_count": 37
        }
      ]
    },
    {
      "cell_type": "code",
      "metadata": {
        "id": "xRYOjapFdCx1",
        "colab_type": "code",
        "colab": {}
      },
      "source": [
        "xtrain=x_train[:1000]\n",
        "ytrain=y_train[:1000]\n",
        "xlabel=x_train[1000:]\n",
        "ylabel=y_train[1000:]"
      ],
      "execution_count": 0,
      "outputs": []
    },
    {
      "cell_type": "code",
      "metadata": {
        "id": "7ZHW1ne_sb-9",
        "colab_type": "code",
        "colab": {
          "base_uri": "https://localhost:8080/",
          "height": 91
        },
        "outputId": "d31bd1ae-338d-4986-ba52-5d54e4e7b551"
      },
      "source": [
        "print(xtrain.shape)\n",
        "print(ytrain.shape)\n",
        "print(xlabel.shape)\n",
        "print(ylabel.shape)"
      ],
      "execution_count": 39,
      "outputs": [
        {
          "output_type": "stream",
          "text": [
            "(1000, 1, 1)\n",
            "(1000, 1)\n",
            "(257, 1, 1)\n",
            "(257, 1)\n"
          ],
          "name": "stdout"
        }
      ]
    },
    {
      "cell_type": "code",
      "metadata": {
        "id": "ZxZQeUYHsdZA",
        "colab_type": "code",
        "colab": {
          "base_uri": "https://localhost:8080/",
          "height": 277
        },
        "outputId": "55c3539a-610d-422f-91de-65ce208e8ea3"
      },
      "source": [
        "from keras.models import Sequential\n",
        "from keras.layers import Dense\n",
        "from keras.layers import LSTM\n",
        "regressor=Sequential()\n",
        "regressor.add(LSTM(units=32,return_sequences=True,input_shape=(None,1)))\n",
        "regressor.add(LSTM(units=3))\n",
        "regressor.add(Dense(units=1))\n",
        "regressor.compile(optimizer=adam(lr=0.0007),loss='mean_squared_error',metrics=['accuracy'])\n",
        "regressor.summary()"
      ],
      "execution_count": 40,
      "outputs": [
        {
          "output_type": "stream",
          "text": [
            "Model: \"sequential_1\"\n",
            "_________________________________________________________________\n",
            "Layer (type)                 Output Shape              Param #   \n",
            "=================================================================\n",
            "lstm_1 (LSTM)                (None, None, 32)          4352      \n",
            "_________________________________________________________________\n",
            "lstm_2 (LSTM)                (None, 3)                 432       \n",
            "_________________________________________________________________\n",
            "dense_1 (Dense)              (None, 1)                 4         \n",
            "=================================================================\n",
            "Total params: 4,788\n",
            "Trainable params: 4,788\n",
            "Non-trainable params: 0\n",
            "_________________________________________________________________\n"
          ],
          "name": "stdout"
        }
      ]
    },
    {
      "cell_type": "code",
      "metadata": {
        "id": "LKKoz4DCsetR",
        "colab_type": "code",
        "colab": {
          "base_uri": "https://localhost:8080/",
          "height": 1000
        },
        "outputId": "7be3a67d-c003-4e90-d701-187c27273bfb"
      },
      "source": [
        "hist=regressor.fit(xtrain,ytrain,epochs=50,batch_size=32,validation_data=(xlabel,ylabel))"
      ],
      "execution_count": 41,
      "outputs": [
        {
          "output_type": "stream",
          "text": [
            "Train on 1000 samples, validate on 257 samples\n",
            "Epoch 1/50\n",
            "1000/1000 [==============================] - 1s 892us/step - loss: 0.1750 - accuracy: 0.0010 - val_loss: 0.6732 - val_accuracy: 0.0000e+00\n",
            "Epoch 2/50\n",
            "1000/1000 [==============================] - 0s 83us/step - loss: 0.1471 - accuracy: 0.0010 - val_loss: 0.5912 - val_accuracy: 0.0000e+00\n",
            "Epoch 3/50\n",
            "1000/1000 [==============================] - 0s 95us/step - loss: 0.1167 - accuracy: 0.0010 - val_loss: 0.4859 - val_accuracy: 0.0000e+00\n",
            "Epoch 4/50\n",
            "1000/1000 [==============================] - 0s 96us/step - loss: 0.0829 - accuracy: 0.0010 - val_loss: 0.3546 - val_accuracy: 0.0000e+00\n",
            "Epoch 5/50\n",
            "1000/1000 [==============================] - 0s 84us/step - loss: 0.0510 - accuracy: 0.0010 - val_loss: 0.2249 - val_accuracy: 0.0000e+00\n",
            "Epoch 6/50\n",
            "1000/1000 [==============================] - 0s 87us/step - loss: 0.0316 - accuracy: 0.0010 - val_loss: 0.1363 - val_accuracy: 0.0039\n",
            "Epoch 7/50\n",
            "1000/1000 [==============================] - 0s 84us/step - loss: 0.0256 - accuracy: 0.0010 - val_loss: 0.1025 - val_accuracy: 0.0039\n",
            "Epoch 8/50\n",
            "1000/1000 [==============================] - 0s 86us/step - loss: 0.0232 - accuracy: 0.0010 - val_loss: 0.0916 - val_accuracy: 0.0039\n",
            "Epoch 9/50\n",
            "1000/1000 [==============================] - 0s 85us/step - loss: 0.0207 - accuracy: 0.0010 - val_loss: 0.0782 - val_accuracy: 0.0039\n",
            "Epoch 10/50\n",
            "1000/1000 [==============================] - 0s 85us/step - loss: 0.0182 - accuracy: 0.0010 - val_loss: 0.0666 - val_accuracy: 0.0039\n",
            "Epoch 11/50\n",
            "1000/1000 [==============================] - 0s 93us/step - loss: 0.0156 - accuracy: 0.0010 - val_loss: 0.0544 - val_accuracy: 0.0039\n",
            "Epoch 12/50\n",
            "1000/1000 [==============================] - 0s 85us/step - loss: 0.0130 - accuracy: 0.0010 - val_loss: 0.0439 - val_accuracy: 0.0039\n",
            "Epoch 13/50\n",
            "1000/1000 [==============================] - 0s 83us/step - loss: 0.0106 - accuracy: 0.0010 - val_loss: 0.0329 - val_accuracy: 0.0039\n",
            "Epoch 14/50\n",
            "1000/1000 [==============================] - 0s 83us/step - loss: 0.0083 - accuracy: 0.0010 - val_loss: 0.0250 - val_accuracy: 0.0039\n",
            "Epoch 15/50\n",
            "1000/1000 [==============================] - 0s 84us/step - loss: 0.0062 - accuracy: 0.0010 - val_loss: 0.0178 - val_accuracy: 0.0039\n",
            "Epoch 16/50\n",
            "1000/1000 [==============================] - 0s 84us/step - loss: 0.0045 - accuracy: 0.0010 - val_loss: 0.0115 - val_accuracy: 0.0039\n",
            "Epoch 17/50\n",
            "1000/1000 [==============================] - 0s 92us/step - loss: 0.0031 - accuracy: 0.0010 - val_loss: 0.0067 - val_accuracy: 0.0039\n",
            "Epoch 18/50\n",
            "1000/1000 [==============================] - 0s 84us/step - loss: 0.0021 - accuracy: 0.0010 - val_loss: 0.0041 - val_accuracy: 0.0039\n",
            "Epoch 19/50\n",
            "1000/1000 [==============================] - 0s 85us/step - loss: 0.0014 - accuracy: 0.0010 - val_loss: 0.0022 - val_accuracy: 0.0039\n",
            "Epoch 20/50\n",
            "1000/1000 [==============================] - 0s 86us/step - loss: 9.8039e-04 - accuracy: 0.0010 - val_loss: 0.0012 - val_accuracy: 0.0039\n",
            "Epoch 21/50\n",
            "1000/1000 [==============================] - 0s 85us/step - loss: 7.3537e-04 - accuracy: 0.0010 - val_loss: 7.1757e-04 - val_accuracy: 0.0039\n",
            "Epoch 22/50\n",
            "1000/1000 [==============================] - 0s 87us/step - loss: 5.9798e-04 - accuracy: 0.0010 - val_loss: 4.8340e-04 - val_accuracy: 0.0039\n",
            "Epoch 23/50\n",
            "1000/1000 [==============================] - 0s 90us/step - loss: 5.2680e-04 - accuracy: 0.0010 - val_loss: 3.9807e-04 - val_accuracy: 0.0039\n",
            "Epoch 24/50\n",
            "1000/1000 [==============================] - 0s 85us/step - loss: 4.9138e-04 - accuracy: 0.0010 - val_loss: 3.9317e-04 - val_accuracy: 0.0039\n",
            "Epoch 25/50\n",
            "1000/1000 [==============================] - 0s 86us/step - loss: 4.6993e-04 - accuracy: 0.0010 - val_loss: 3.5803e-04 - val_accuracy: 0.0039\n",
            "Epoch 26/50\n",
            "1000/1000 [==============================] - 0s 87us/step - loss: 4.5919e-04 - accuracy: 0.0010 - val_loss: 3.6005e-04 - val_accuracy: 0.0039\n",
            "Epoch 27/50\n",
            "1000/1000 [==============================] - 0s 88us/step - loss: 4.4955e-04 - accuracy: 0.0010 - val_loss: 3.5979e-04 - val_accuracy: 0.0039\n",
            "Epoch 28/50\n",
            "1000/1000 [==============================] - 0s 88us/step - loss: 4.4390e-04 - accuracy: 0.0010 - val_loss: 3.6416e-04 - val_accuracy: 0.0039\n",
            "Epoch 29/50\n",
            "1000/1000 [==============================] - 0s 91us/step - loss: 4.3720e-04 - accuracy: 0.0010 - val_loss: 3.6658e-04 - val_accuracy: 0.0039\n",
            "Epoch 30/50\n",
            "1000/1000 [==============================] - 0s 89us/step - loss: 4.3283e-04 - accuracy: 0.0010 - val_loss: 3.8492e-04 - val_accuracy: 0.0039\n",
            "Epoch 31/50\n",
            "1000/1000 [==============================] - 0s 85us/step - loss: 4.2654e-04 - accuracy: 0.0010 - val_loss: 3.7650e-04 - val_accuracy: 0.0039\n",
            "Epoch 32/50\n",
            "1000/1000 [==============================] - 0s 83us/step - loss: 4.2133e-04 - accuracy: 0.0010 - val_loss: 3.8611e-04 - val_accuracy: 0.0039\n",
            "Epoch 33/50\n",
            "1000/1000 [==============================] - 0s 85us/step - loss: 4.1581e-04 - accuracy: 0.0010 - val_loss: 3.8907e-04 - val_accuracy: 0.0039\n",
            "Epoch 34/50\n",
            "1000/1000 [==============================] - 0s 83us/step - loss: 4.1554e-04 - accuracy: 0.0010 - val_loss: 4.0014e-04 - val_accuracy: 0.0039\n",
            "Epoch 35/50\n",
            "1000/1000 [==============================] - 0s 88us/step - loss: 4.0640e-04 - accuracy: 0.0010 - val_loss: 4.2528e-04 - val_accuracy: 0.0039\n",
            "Epoch 36/50\n",
            "1000/1000 [==============================] - 0s 84us/step - loss: 4.0278e-04 - accuracy: 0.0010 - val_loss: 4.1505e-04 - val_accuracy: 0.0039\n",
            "Epoch 37/50\n",
            "1000/1000 [==============================] - 0s 84us/step - loss: 3.9700e-04 - accuracy: 0.0010 - val_loss: 4.2552e-04 - val_accuracy: 0.0039\n",
            "Epoch 38/50\n",
            "1000/1000 [==============================] - 0s 84us/step - loss: 3.9343e-04 - accuracy: 0.0010 - val_loss: 4.9185e-04 - val_accuracy: 0.0039\n",
            "Epoch 39/50\n",
            "1000/1000 [==============================] - 0s 86us/step - loss: 3.9007e-04 - accuracy: 0.0010 - val_loss: 5.0139e-04 - val_accuracy: 0.0039\n",
            "Epoch 40/50\n",
            "1000/1000 [==============================] - 0s 91us/step - loss: 3.8752e-04 - accuracy: 0.0010 - val_loss: 4.9118e-04 - val_accuracy: 0.0039\n",
            "Epoch 41/50\n",
            "1000/1000 [==============================] - 0s 86us/step - loss: 3.8111e-04 - accuracy: 0.0010 - val_loss: 5.4139e-04 - val_accuracy: 0.0039\n",
            "Epoch 42/50\n",
            "1000/1000 [==============================] - 0s 83us/step - loss: 3.7989e-04 - accuracy: 0.0010 - val_loss: 5.1383e-04 - val_accuracy: 0.0039\n",
            "Epoch 43/50\n",
            "1000/1000 [==============================] - 0s 82us/step - loss: 3.7559e-04 - accuracy: 0.0010 - val_loss: 4.9827e-04 - val_accuracy: 0.0039\n",
            "Epoch 44/50\n",
            "1000/1000 [==============================] - 0s 84us/step - loss: 3.7123e-04 - accuracy: 0.0010 - val_loss: 5.3158e-04 - val_accuracy: 0.0039\n",
            "Epoch 45/50\n",
            "1000/1000 [==============================] - 0s 84us/step - loss: 3.6816e-04 - accuracy: 0.0010 - val_loss: 5.7830e-04 - val_accuracy: 0.0039\n",
            "Epoch 46/50\n",
            "1000/1000 [==============================] - 0s 84us/step - loss: 3.6351e-04 - accuracy: 0.0010 - val_loss: 6.5799e-04 - val_accuracy: 0.0039\n",
            "Epoch 47/50\n",
            "1000/1000 [==============================] - 0s 83us/step - loss: 3.5985e-04 - accuracy: 0.0010 - val_loss: 6.0452e-04 - val_accuracy: 0.0039\n",
            "Epoch 48/50\n",
            "1000/1000 [==============================] - 0s 85us/step - loss: 3.5644e-04 - accuracy: 0.0010 - val_loss: 7.0254e-04 - val_accuracy: 0.0039\n",
            "Epoch 49/50\n",
            "1000/1000 [==============================] - 0s 83us/step - loss: 3.5959e-04 - accuracy: 0.0010 - val_loss: 6.8906e-04 - val_accuracy: 0.0039\n",
            "Epoch 50/50\n",
            "1000/1000 [==============================] - 0s 85us/step - loss: 3.6286e-04 - accuracy: 0.0010 - val_loss: 7.4922e-04 - val_accuracy: 0.0039\n"
          ],
          "name": "stdout"
        }
      ]
    },
    {
      "cell_type": "code",
      "metadata": {
        "id": "B-jnsg-lsgCR",
        "colab_type": "code",
        "colab": {
          "base_uri": "https://localhost:8080/",
          "height": 267
        },
        "outputId": "6ae07f12-9e16-465a-b40e-bbe53eca99e7"
      },
      "source": [
        "plt.plot(hist.history['loss'],label=\"train loss\")\n",
        "plt.plot(hist.history[\"val_loss\"],label=\"validation_loss\")\n",
        "plt.legend()\n",
        "plt.show()"
      ],
      "execution_count": 42,
      "outputs": [
        {
          "output_type": "display_data",
          "data": {
            "image/png": "[encoded data removed]",
            "text/plain": [
              "<Figure size 432x288 with 1 Axes>"
            ]
          },
          "metadata": {
            "tags": [],
            "needs_background": "light"
          }
        }
      ]
    },
    {
      "cell_type": "code",
      "metadata": {
        "id": "-tEDi67UshcD",
        "colab_type": "code",
        "colab": {
          "base_uri": "https://localhost:8080/",
          "height": 284
        },
        "outputId": "cd4fd360-9788-43f7-86e7-d95d85794551"
      },
      "source": [
        "plt.plot(hist.history['accuracy'],label='accuracy')\n",
        "plt.plot(hist.history['val_accuracy'],label='val acc')\n",
        "plt.legend()"
      ],
      "execution_count": 43,
      "outputs": [
        {
          "output_type": "execute_result",
          "data": {
            "text/plain": [
              "<matplotlib.legend.Legend at 0x7fb22cba32b0>"
            ]
          },
          "metadata": {
            "tags": []
          },
          "execution_count": 43
        },
        {
          "output_type": "display_data",
          "data": {
            "image/png": "[encoded data removed]",
            "text/plain": [
              "<Figure size 432x288 with 1 Axes>"
            ]
          },
          "metadata": {
            "tags": [],
            "needs_background": "light"
          }
        }
      ]
    },
    {
      "cell_type": "code",
      "metadata": {
        "id": "eSh853Y6skmj",
        "colab_type": "code",
        "colab": {}
      },
      "source": [
        "y_pred=regressor.predict(xlabel)"
      ],
      "execution_count": 0,
      "outputs": []
    },
    {
      "cell_type": "code",
      "metadata": {
        "id": "fOvTdPdJsl44",
        "colab_type": "code",
        "colab": {
          "base_uri": "https://localhost:8080/",
          "height": 265
        },
        "outputId": "225fce3b-1d0c-47c2-f8ff-18ba506856ca"
      },
      "source": [
        "plt.plot(ylabel)\n",
        "plt.plot(y_pred)\n",
        "plt.show()"
      ],
      "execution_count": 45,
      "outputs": [
        {
          "output_type": "display_data",
          "data": {
            "image/png": "[encoded data removed]",
            "text/plain": [
              "<Figure size 432x288 with 1 Axes>"
            ]
          },
          "metadata": {
            "tags": [],
            "needs_background": "light"
          }
        }
      ]
    },
    {
      "cell_type": "code",
      "metadata": {
        "id": "Y7M61K9vsnC9",
        "colab_type": "code",
        "colab": {
          "base_uri": "https://localhost:8080/",
          "height": 36
        },
        "outputId": "237a801a-0cc0-46aa-e76b-1fbcea2425be"
      },
      "source": [
        "sc=MinMaxScaler(feature_range=(0,1))\n",
        "test=sc.fit_transform(test)\n",
        "test=test.reshape((test.shape[0],test.shape[1],1))\n",
        "test.shape"
      ],
      "execution_count": 46,
      "outputs": [
        {
          "output_type": "execute_result",
          "data": {
            "text/plain": [
              "(19, 1, 1)"
            ]
          },
          "metadata": {
            "tags": []
          },
          "execution_count": 46
        }
      ]
    },
    {
      "cell_type": "code",
      "metadata": {
        "id": "eMl2rtGVspI7",
        "colab_type": "code",
        "colab": {}
      },
      "source": [
        "y_pred=regressor.predict(test)"
      ],
      "execution_count": 0,
      "outputs": []
    },
    {
      "cell_type": "code",
      "metadata": {
        "id": "-wRTFxXtss1g",
        "colab_type": "code",
        "colab": {}
      },
      "source": [
        "y_pred=sc.inverse_transform(y_pred)"
      ],
      "execution_count": 0,
      "outputs": []
    },
    {
      "cell_type": "code",
      "metadata": {
        "id": "B6PCMGvssuJw",
        "colab_type": "code",
        "colab": {}
      },
      "source": [
        "result=pd.DataFrame(y_pred)"
      ],
      "execution_count": 0,
      "outputs": []
    },
    {
      "cell_type": "code",
      "metadata": {
        "id": "_LnrRJNOsvMQ",
        "colab_type": "code",
        "colab": {
          "base_uri": "https://localhost:8080/",
          "height": 206
        },
        "outputId": "17a7f3b8-b1c2-4721-f8da-146d4752d9f5"
      },
      "source": [
        "result.head()"
      ],
      "execution_count": 50,
      "outputs": [
        {
          "output_type": "execute_result",
          "data": {
            "text/html": [
              "<div>\n",
              "<style scoped>\n",
              "    .dataframe tbody tr th:only-of-type {\n",
              "        vertical-align: middle;\n",
              "    }\n",
              "\n",
              "    .dataframe tbody tr th {\n",
              "        vertical-align: top;\n",
              "    }\n",
              "\n",
              "    .dataframe thead th {\n",
              "        text-align: right;\n",
              "    }\n",
              "</style>\n",
              "<table border=\"1\" class=\"dataframe\">\n",
              "  <thead>\n",
              "    <tr style=\"text-align: right;\">\n",
              "      <th></th>\n",
              "      <th>0</th>\n",
              "    </tr>\n",
              "  </thead>\n",
              "  <tbody>\n",
              "    <tr>\n",
              "      <th>0</th>\n",
              "      <td>791.607910</td>\n",
              "    </tr>\n",
              "    <tr>\n",
              "      <th>1</th>\n",
              "      <td>792.618591</td>\n",
              "    </tr>\n",
              "    <tr>\n",
              "      <th>2</th>\n",
              "      <td>794.731689</td>\n",
              "    </tr>\n",
              "    <tr>\n",
              "      <th>3</th>\n",
              "      <td>807.153992</td>\n",
              "    </tr>\n",
              "    <tr>\n",
              "      <th>4</th>\n",
              "      <td>809.413086</td>\n",
              "    </tr>\n",
              "  </tbody>\n",
              "</table>\n",
              "</div>"
            ],
            "text/plain": [
              "            0\n",
              "0  791.607910\n",
              "1  792.618591\n",
              "2  794.731689\n",
              "3  807.153992\n",
              "4  809.413086"
            ]
          },
          "metadata": {
            "tags": []
          },
          "execution_count": 50
        }
      ]
    },
    {
      "cell_type": "markdown",
      "metadata": {
        "id": "B7LbfNXOszxr",
        "colab_type": "text"
      },
      "source": [
        "40 Time Step LSTM"
      ]
    },
    {
      "cell_type": "code",
      "metadata": {
        "id": "5WLjPYhhswhi",
        "colab_type": "code",
        "colab": {}
      },
      "source": [
        "new_data=pd.read_csv(\"stockx_train.csv\")\n",
        "test_data=pd.read_csv(\"stockx_test.csv\")"
      ],
      "execution_count": 0,
      "outputs": []
    },
    {
      "cell_type": "code",
      "metadata": {
        "id": "VO-koZgSvP4D",
        "colab_type": "code",
        "colab": {}
      },
      "source": [
        "new_data=pd.concat((new_data,test_data))"
      ],
      "execution_count": 0,
      "outputs": []
    },
    {
      "cell_type": "code",
      "metadata": {
        "id": "HiVNBUjbvTRY",
        "colab_type": "code",
        "colab": {
          "base_uri": "https://localhost:8080/",
          "height": 36
        },
        "outputId": "02c06f36-972b-4bbe-c47f-f5eaac2a0dd2"
      },
      "source": [
        "new_data.shape"
      ],
      "execution_count": 53,
      "outputs": [
        {
          "output_type": "execute_result",
          "data": {
            "text/plain": [
              "(1276, 1)"
            ]
          },
          "metadata": {
            "tags": []
          },
          "execution_count": 53
        }
      ]
    },
    {
      "cell_type": "code",
      "metadata": {
        "id": "GRxX1GAzvUwP",
        "colab_type": "code",
        "colab": {}
      },
      "source": [
        "dataset=new_data.values"
      ],
      "execution_count": 0,
      "outputs": []
    },
    {
      "cell_type": "code",
      "metadata": {
        "id": "ofzmQz6NvYja",
        "colab_type": "code",
        "colab": {
          "base_uri": "https://localhost:8080/",
          "height": 36
        },
        "outputId": "510cafe9-d4ec-4c5c-ae8b-0f021f843463"
      },
      "source": [
        "dataset.shape"
      ],
      "execution_count": 55,
      "outputs": [
        {
          "output_type": "execute_result",
          "data": {
            "text/plain": [
              "(1276, 1)"
            ]
          },
          "metadata": {
            "tags": []
          },
          "execution_count": 55
        }
      ]
    },
    {
      "cell_type": "code",
      "metadata": {
        "id": "1oMKLlLUvZ6y",
        "colab_type": "code",
        "colab": {}
      },
      "source": [
        " train=dataset[0:1257,:]\n",
        " valid=dataset[1257:,:]"
      ],
      "execution_count": 0,
      "outputs": []
    },
    {
      "cell_type": "code",
      "metadata": {
        "id": "Cptdwywbvn4v",
        "colab_type": "code",
        "colab": {
          "base_uri": "https://localhost:8080/",
          "height": 36
        },
        "outputId": "cbb052bf-440f-4ab7-a169-873e0ccb4d4e"
      },
      "source": [
        "valid.shape"
      ],
      "execution_count": 57,
      "outputs": [
        {
          "output_type": "execute_result",
          "data": {
            "text/plain": [
              "(19, 1)"
            ]
          },
          "metadata": {
            "tags": []
          },
          "execution_count": 57
        }
      ]
    },
    {
      "cell_type": "code",
      "metadata": {
        "id": "14C47eCHvo-w",
        "colab_type": "code",
        "colab": {}
      },
      "source": [
        "mm=MinMaxScaler(feature_range=(0,1))\n",
        "scaler_data=mm.fit_transform(dataset)"
      ],
      "execution_count": 0,
      "outputs": []
    },
    {
      "cell_type": "code",
      "metadata": {
        "id": "7K7Y3yf3wIhV",
        "colab_type": "code",
        "colab": {}
      },
      "source": [
        "x_train, y_train = [], []\n",
        "for i in range(40,len(train)):\n",
        "    x_train.append(scaler_data[i-40:i,0])\n",
        "    y_train.append(scaler_data[i,0])\n",
        "x_train, y_train = np.array(x_train), np.array(y_train)"
      ],
      "execution_count": 0,
      "outputs": []
    },
    {
      "cell_type": "code",
      "metadata": {
        "id": "Wf6ENjZhwYDK",
        "colab_type": "code",
        "colab": {
          "base_uri": "https://localhost:8080/",
          "height": 54
        },
        "outputId": "0baab98c-8c61-4705-81c0-e5ee93184022"
      },
      "source": [
        "print(x_train.shape)\n",
        "print(y_train.shape)"
      ],
      "execution_count": 61,
      "outputs": [
        {
          "output_type": "stream",
          "text": [
            "(1217, 40)\n",
            "(1217,)\n"
          ],
          "name": "stdout"
        }
      ]
    },
    {
      "cell_type": "code",
      "metadata": {
        "id": "dIkucznewwlo",
        "colab_type": "code",
        "colab": {
          "base_uri": "https://localhost:8080/",
          "height": 36
        },
        "outputId": "ca16df3b-907a-416f-8d52-02d4b372e671"
      },
      "source": [
        "x_train = np.reshape(x_train, (x_train.shape[0],x_train.shape[1],1))\n",
        "print(x_train.shape)"
      ],
      "execution_count": 62,
      "outputs": [
        {
          "output_type": "stream",
          "text": [
            "(1217, 40, 1)\n"
          ],
          "name": "stdout"
        }
      ]
    },
    {
      "cell_type": "code",
      "metadata": {
        "id": "yfODIDjewy75",
        "colab_type": "code",
        "colab": {
          "base_uri": "https://localhost:8080/",
          "height": 221
        },
        "outputId": "4665eb7e-5b86-4621-8c7f-4ebbb3aebe86"
      },
      "source": [
        "# create and fit the LSTM network\n",
        "model = Sequential()\n",
        "model.add(LSTM(units=64, return_sequences=True, input_shape=(x_train.shape[1],1)))\n",
        "model.add(LSTM(units=32))\n",
        "model.add(Dense(1))\n",
        "\n",
        "model.compile(loss='mean_squared_error', optimizer='adam')\n",
        "model.fit(x_train, y_train, epochs=5, batch_size=1, verbose=1)"
      ],
      "execution_count": 64,
      "outputs": [
        {
          "output_type": "stream",
          "text": [
            "Epoch 1/5\n",
            "1217/1217 [==============================] - 36s 29ms/step - loss: 0.0030\n",
            "Epoch 2/5\n",
            "1217/1217 [==============================] - 30s 25ms/step - loss: 0.0010\n",
            "Epoch 3/5\n",
            "1217/1217 [==============================] - 30s 25ms/step - loss: 9.4302e-04\n",
            "Epoch 4/5\n",
            "1217/1217 [==============================] - 31s 25ms/step - loss: 6.6430e-04\n",
            "Epoch 5/5\n",
            "1217/1217 [==============================] - 30s 25ms/step - loss: 5.2438e-04\n"
          ],
          "name": "stdout"
        },
        {
          "output_type": "execute_result",
          "data": {
            "text/plain": [
              "<keras.callbacks.callbacks.History at 0x7fb22a5a8f98>"
            ]
          },
          "metadata": {
            "tags": []
          },
          "execution_count": 64
        }
      ]
    },
    {
      "cell_type": "code",
      "metadata": {
        "id": "-JBP0CwLw1Yk",
        "colab_type": "code",
        "colab": {
          "base_uri": "https://localhost:8080/",
          "height": 36
        },
        "outputId": "a336105c-8e3e-419f-b985-05d0edc0e8c3"
      },
      "source": [
        "valid.shape"
      ],
      "execution_count": 65,
      "outputs": [
        {
          "output_type": "execute_result",
          "data": {
            "text/plain": [
              "(19, 1)"
            ]
          },
          "metadata": {
            "tags": []
          },
          "execution_count": 65
        }
      ]
    },
    {
      "cell_type": "code",
      "metadata": {
        "id": "rNkgh-eSw_Qs",
        "colab_type": "code",
        "colab": {}
      },
      "source": [
        "inputs = new_data[len(new_data) - len(valid) - 40:].values\n",
        "inputs = inputs.reshape(-1,1)\n",
        "inputs  = mm.transform(inputs)"
      ],
      "execution_count": 0,
      "outputs": []
    },
    {
      "cell_type": "code",
      "metadata": {
        "id": "5jC6IaC8xBeu",
        "colab_type": "code",
        "colab": {
          "base_uri": "https://localhost:8080/",
          "height": 36
        },
        "outputId": "ffedb257-3e3e-4e72-e1e8-068e82622e16"
      },
      "source": [
        "inputs.shape"
      ],
      "execution_count": 69,
      "outputs": [
        {
          "output_type": "execute_result",
          "data": {
            "text/plain": [
              "(59, 1)"
            ]
          },
          "metadata": {
            "tags": []
          },
          "execution_count": 69
        }
      ]
    },
    {
      "cell_type": "code",
      "metadata": {
        "id": "27WhmLVMxDlv",
        "colab_type": "code",
        "colab": {}
      },
      "source": [
        "X_test = []\n",
        "for i in range(40,inputs.shape[0]):\n",
        "    X_test.append(inputs[i-40:i,0])\n",
        "X_test = np.array(X_test)"
      ],
      "execution_count": 0,
      "outputs": []
    },
    {
      "cell_type": "code",
      "metadata": {
        "id": "VMfD3VKixGf1",
        "colab_type": "code",
        "colab": {
          "base_uri": "https://localhost:8080/",
          "height": 211
        },
        "outputId": "b97ee370-205d-4c0a-c473-9b7feec452d5"
      },
      "source": [
        "X_test = np.reshape(X_test, (X_test.shape[0],X_test.shape[1],1))\n",
        "closing_price = model.predict(X_test)\n",
        "closing_price = scaler.inverse_transform(closing_price)"
      ],
      "execution_count": 71,
      "outputs": [
        {
          "output_type": "error",
          "ename": "NameError",
          "evalue": "ignored",
          "traceback": [
            "\u001b[0;31m---------------------------------------------------------------------------\u001b[0m",
            "\u001b[0;31mNameError\u001b[0m                                 Traceback (most recent call last)",
            "\u001b[0;32m<ipython-input-71-b8b078643798>\u001b[0m in \u001b[0;36m<module>\u001b[0;34m()\u001b[0m\n\u001b[1;32m      1\u001b[0m \u001b[0mX_test\u001b[0m \u001b[0;34m=\u001b[0m \u001b[0mnp\u001b[0m\u001b[0;34m.\u001b[0m\u001b[0mreshape\u001b[0m\u001b[0;34m(\u001b[0m\u001b[0mX_test\u001b[0m\u001b[0;34m,\u001b[0m \u001b[0;34m(\u001b[0m\u001b[0mX_test\u001b[0m\u001b[0;34m.\u001b[0m\u001b[0mshape\u001b[0m\u001b[0;34m[\u001b[0m\u001b[0;36m0\u001b[0m\u001b[0;34m]\u001b[0m\u001b[0;34m,\u001b[0m\u001b[0mX_test\u001b[0m\u001b[0;34m.\u001b[0m\u001b[0mshape\u001b[0m\u001b[0;34m[\u001b[0m\u001b[0;36m1\u001b[0m\u001b[0;34m]\u001b[0m\u001b[0;34m,\u001b[0m\u001b[0;36m1\u001b[0m\u001b[0;34m)\u001b[0m\u001b[0;34m)\u001b[0m\u001b[0;34m\u001b[0m\u001b[0;34m\u001b[0m\u001b[0m\n\u001b[1;32m      2\u001b[0m \u001b[0mclosing_price\u001b[0m \u001b[0;34m=\u001b[0m \u001b[0mmodel\u001b[0m\u001b[0;34m.\u001b[0m\u001b[0mpredict\u001b[0m\u001b[0;34m(\u001b[0m\u001b[0mX_test\u001b[0m\u001b[0;34m)\u001b[0m\u001b[0;34m\u001b[0m\u001b[0;34m\u001b[0m\u001b[0m\n\u001b[0;32m----> 3\u001b[0;31m \u001b[0mclosing_price\u001b[0m \u001b[0;34m=\u001b[0m \u001b[0mscaler\u001b[0m\u001b[0;34m.\u001b[0m\u001b[0minverse_transform\u001b[0m\u001b[0;34m(\u001b[0m\u001b[0mclosing_price\u001b[0m\u001b[0;34m)\u001b[0m\u001b[0;34m\u001b[0m\u001b[0;34m\u001b[0m\u001b[0m\n\u001b[0m",
            "\u001b[0;31mNameError\u001b[0m: name 'scaler' is not defined"
          ]
        }
      ]
    },
    {
      "cell_type": "code",
      "metadata": {
        "id": "T81z0CxoxIXj",
        "colab_type": "code",
        "colab": {
          "base_uri": "https://localhost:8080/",
          "height": 36
        },
        "outputId": "2fb58b75-d95e-4191-ba27-f408eaf429a7"
      },
      "source": [
        "rms=np.sqrt(np.mean(np.power((valid-closing_price),2)))\n",
        "rms"
      ],
      "execution_count": 72,
      "outputs": [
        {
          "output_type": "execute_result",
          "data": {
            "text/plain": [
              "811.6642332995267"
            ]
          },
          "metadata": {
            "tags": []
          },
          "execution_count": 72
        }
      ]
    },
    {
      "cell_type": "code",
      "metadata": {
        "id": "IcUO4mzKxLAm",
        "colab_type": "code",
        "colab": {
          "base_uri": "https://localhost:8080/",
          "height": 614
        },
        "outputId": "2e28ee02-053e-4f64-8d41-143798e43132"
      },
      "source": [
        "plt.figure(figsize=(14,8))\n",
        "train = new_data[:1257]\n",
        "valid = new_data[1257:]\n",
        "valid['Predictions'] = closing_price\n",
        "plt.plot(train['High'])\n",
        "plt.plot(valid[['High','Predictions']])\n",
        "plt.show()"
      ],
      "execution_count": 73,
      "outputs": [
        {
          "output_type": "stream",
          "text": [
            "/usr/local/lib/python3.6/dist-packages/ipykernel_launcher.py:4: SettingWithCopyWarning: \n",
            "A value is trying to be set on a copy of a slice from a DataFrame.\n",
            "Try using .loc[row_indexer,col_indexer] = value instead\n",
            "\n",
            "See the caveats in the documentation: https://pandas.pydata.org/pandas-docs/stable/user_guide/indexing.html#returning-a-view-versus-a-copy\n",
            "  after removing the cwd from sys.path.\n"
          ],
          "name": "stderr"
        },
        {
          "output_type": "display_data",
          "data": {
            "image/png": "[encoded data removed]",
            "text/plain": [
              "<Figure size 1008x576 with 1 Axes>"
            ]
          },
          "metadata": {
            "tags": [],
            "needs_background": "light"
          }
        }
      ]
    },
    {
      "cell_type": "code",
      "metadata": {
        "id": "POaKKNP5xMxb",
        "colab_type": "code",
        "colab": {}
      },
      "source": [
        "df=pd.DataFrame(closing_price)"
      ],
      "execution_count": 0,
      "outputs": []
    },
    {
      "cell_type": "code",
      "metadata": {
        "id": "SEPJF0djxPmo",
        "colab_type": "code",
        "colab": {}
      },
      "source": [
        "df.columns= ['High']"
      ],
      "execution_count": 0,
      "outputs": []
    },
    {
      "cell_type": "code",
      "metadata": {
        "id": "u551UjasxRM8",
        "colab_type": "code",
        "colab": {
          "base_uri": "https://localhost:8080/",
          "height": 206
        },
        "outputId": "a85ce520-3957-4052-d78d-0bb56ca39e20"
      },
      "source": [
        "df.head()"
      ],
      "execution_count": 76,
      "outputs": [
        {
          "output_type": "execute_result",
          "data": {
            "text/html": [
              "<div>\n",
              "<style scoped>\n",
              "    .dataframe tbody tr th:only-of-type {\n",
              "        vertical-align: middle;\n",
              "    }\n",
              "\n",
              "    .dataframe tbody tr th {\n",
              "        vertical-align: top;\n",
              "    }\n",
              "\n",
              "    .dataframe thead th {\n",
              "        text-align: right;\n",
              "    }\n",
              "</style>\n",
              "<table border=\"1\" class=\"dataframe\">\n",
              "  <thead>\n",
              "    <tr style=\"text-align: right;\">\n",
              "      <th></th>\n",
              "      <th>High</th>\n",
              "    </tr>\n",
              "  </thead>\n",
              "  <tbody>\n",
              "    <tr>\n",
              "      <th>0</th>\n",
              "      <td>0.908883</td>\n",
              "    </tr>\n",
              "    <tr>\n",
              "      <th>1</th>\n",
              "      <td>0.910662</td>\n",
              "    </tr>\n",
              "    <tr>\n",
              "      <th>2</th>\n",
              "      <td>0.915419</td>\n",
              "    </tr>\n",
              "    <tr>\n",
              "      <th>3</th>\n",
              "      <td>0.921460</td>\n",
              "    </tr>\n",
              "    <tr>\n",
              "      <th>4</th>\n",
              "      <td>0.941682</td>\n",
              "    </tr>\n",
              "  </tbody>\n",
              "</table>\n",
              "</div>"
            ],
            "text/plain": [
              "       High\n",
              "0  0.908883\n",
              "1  0.910662\n",
              "2  0.915419\n",
              "3  0.921460\n",
              "4  0.941682"
            ]
          },
          "metadata": {
            "tags": []
          },
          "execution_count": 76
        }
      ]
    },
    {
      "cell_type": "code",
      "metadata": {
        "id": "jgkhX7hhxSum",
        "colab_type": "code",
        "colab": {}
      },
      "source": [
        ""
      ],
      "execution_count": 0,
      "outputs": []
    }
  ]
}